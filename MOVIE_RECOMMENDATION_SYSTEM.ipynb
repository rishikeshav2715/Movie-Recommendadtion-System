{
 "cells": [
  {
   "cell_type": "markdown",
   "id": "0b5df119",
   "metadata": {},
   "source": [
    "# MOVIE RECOMMENDATION SYSTEM\n",
    "\n"
   ]
  },
  {
   "cell_type": "markdown",
   "id": "799d4c19",
   "metadata": {},
   "source": [
    "### THIS MOVIE RECOMMENDATION SYSTEM IS GOING TO BE BASED ON\n",
    "\n",
    "1.CONTENT BASED RECOMMENDATION SYSTEM \n",
    "2.POPULARITY BASED RECOMMENDATION SYSTEM"
   ]
  },
  {
   "cell_type": "markdown",
   "id": "93ead66a",
   "metadata": {},
   "source": [
    "### IMPORTING THE  LIBRARIES"
   ]
  },
  {
   "cell_type": "code",
   "execution_count": null,
   "id": "067238c1",
   "metadata": {},
   "outputs": [],
   "source": [
    "import pandas as pd\n",
    "import difflib  # it is used to get the closest movie name from the dataset to user input\n",
    "from sklearn.feature_extraction.text import TfidfVectorizer#used to change text into num values\n",
    "from sklearn.metrics.pairwise import cosine_similarity#to find the similarity score of the movie\n"
   ]
  },
  {
   "cell_type": "markdown",
   "id": "6f32872d",
   "metadata": {},
   "source": [
    "### DATA COLLECTION AND PRE-PROCESSING"
   ]
  },
  {
   "cell_type": "code",
   "execution_count": null,
   "id": "bf0068f8",
   "metadata": {},
   "outputs": [],
   "source": [
    "#loading data from csv into pandas dataframe"
   ]
  },
  {
   "cell_type": "code",
   "execution_count": null,
   "id": "5b03390c",
   "metadata": {},
   "outputs": [],
   "source": [
    "movies_data=pd.read_csv(\"D:\\RIshi\\jupyter notebook\\Movie Prediction System using cs algo\\movies.csv\")\n",
    "movies_data"
   ]
  },
  {
   "cell_type": "code",
   "execution_count": null,
   "id": "f82cacb7",
   "metadata": {
    "scrolled": true
   },
   "outputs": [],
   "source": [
    "# printing the first 10 rows of the datafarme\n",
    "movies_data.head(10)"
   ]
  },
  {
   "cell_type": "code",
   "execution_count": null,
   "id": "7e12cd9a",
   "metadata": {},
   "outputs": [],
   "source": [
    "# number of rows and columns \n",
    "movies_data.shape"
   ]
  },
  {
   "cell_type": "code",
   "execution_count": null,
   "id": "2f685781",
   "metadata": {},
   "outputs": [],
   "source": [
    "movies_data.columns"
   ]
  },
  {
   "cell_type": "code",
   "execution_count": null,
   "id": "864f4815",
   "metadata": {},
   "outputs": [],
   "source": [
    "#checking how much null values are there in each column\n",
    "movies_data.isnull().sum()"
   ]
  },
  {
   "cell_type": "code",
   "execution_count": null,
   "id": "8e708f85",
   "metadata": {},
   "outputs": [],
   "source": [
    "# replacing null values with null string using for loop\n",
    "\n",
    "for feature in selected_features:\n",
    "    movies_data[feature]=movies_data[feature].fillna('')\n",
    "    "
   ]
  },
  {
   "cell_type": "code",
   "execution_count": null,
   "id": "841cd419",
   "metadata": {},
   "outputs": [],
   "source": [
    "#selecting relevant features for recommendation\n",
    "\n",
    "selected_features = ['genres',\"keywords\",'tagline','cast','director']\n",
    "print(selected_features)"
   ]
  },
  {
   "cell_type": "code",
   "execution_count": null,
   "id": "a3bc69d6",
   "metadata": {},
   "outputs": [],
   "source": [
    "# combining all the selected features\n",
    "concatinated_features=movies_data['genres']+' '+movies_data['keywords']+' '+movies_data['tagline']+' '+movies_data['cast']+' '+movies_data['director']"
   ]
  },
  {
   "cell_type": "code",
   "execution_count": null,
   "id": "0948227f",
   "metadata": {},
   "outputs": [],
   "source": [
    "concatinated_features"
   ]
  },
  {
   "cell_type": "code",
   "execution_count": null,
   "id": "c05a4135",
   "metadata": {},
   "outputs": [],
   "source": [
    "# coverting text data into numberical values/feature vectors\n",
    "\n",
    "vectorizer = TfidfVectorizer()\n"
   ]
  },
  {
   "cell_type": "code",
   "execution_count": null,
   "id": "77bb03c9",
   "metadata": {},
   "outputs": [],
   "source": [
    "#this will tranform the values into numbrical values\n",
    "\n",
    "feature_vectors = vectorizer.fit_transform(concatinated_features)"
   ]
  },
  {
   "cell_type": "code",
   "execution_count": null,
   "id": "6c848a42",
   "metadata": {},
   "outputs": [],
   "source": [
    "print(feature_vectors)"
   ]
  },
  {
   "cell_type": "markdown",
   "id": "8e4a96ec",
   "metadata": {},
   "source": [
    "###  FINDING THE SIMILARITY USING COSINE SIMILARITY ALGORITHM"
   ]
  },
  {
   "cell_type": "code",
   "execution_count": null,
   "id": "8cde4541",
   "metadata": {},
   "outputs": [],
   "source": [
    "# GETTING SIMILARITY SCORES USING COSINE SIMILARITY\n",
    "\n",
    "similarity = cosine_similarity(feature_vectors)\n",
    "\n",
    "print(similarity)"
   ]
  },
  {
   "cell_type": "code",
   "execution_count": null,
   "id": "12a9307b",
   "metadata": {
    "scrolled": true
   },
   "outputs": [],
   "source": [
    "#(movie index,similarity score)\n",
    "similarity.shape"
   ]
  },
  {
   "cell_type": "markdown",
   "id": "69b0f7f0",
   "metadata": {},
   "source": [
    "### GETTING MOVIE NAME FROM USER"
   ]
  },
  {
   "cell_type": "code",
   "execution_count": null,
   "id": "a44fa89d",
   "metadata": {},
   "outputs": [],
   "source": [
    "movie_name = input('Enter your movie name of your choice: ')"
   ]
  },
  {
   "cell_type": "code",
   "execution_count": null,
   "id": "6780e4cc",
   "metadata": {},
   "outputs": [],
   "source": [
    "list_of_all_movies = movies_data['title'].tolist()\n",
    "\n",
    "print(list_of_all_movies)"
   ]
  },
  {
   "cell_type": "code",
   "execution_count": null,
   "id": "66827b29",
   "metadata": {},
   "outputs": [],
   "source": [
    "# finding the close matCH of movie name given by user\n",
    "#get_close_matches is a function in diff lib library\n",
    "\n",
    "close_match = difflib.get_close_matches(movie_name,list_of_all_movies)\n",
    "\n",
    "print(close_match)"
   ]
  },
  {
   "cell_type": "code",
   "execution_count": null,
   "id": "36c630fa",
   "metadata": {},
   "outputs": [],
   "source": [
    "best_match = close_match[0]\n",
    "\n",
    "best_match"
   ]
  },
  {
   "cell_type": "code",
   "execution_count": null,
   "id": "1d771d9f",
   "metadata": {},
   "outputs": [],
   "source": [
    "index_of_the_movie = movies_data[movies_data.title == best_match]['index'].values[0]"
   ]
  },
  {
   "cell_type": "code",
   "execution_count": null,
   "id": "e8bb0184",
   "metadata": {
    "scrolled": false
   },
   "outputs": [],
   "source": [
    "index_of_the_movie"
   ]
  },
  {
   "cell_type": "code",
   "execution_count": null,
   "id": "2c71d54f",
   "metadata": {},
   "outputs": [],
   "source": [
    "# getting list of similar movies compared to user input movie\n",
    "\n",
    "similarity_score = list(enumerate(similarity[index_of_the_movie]))\n",
    "\n",
    "\n",
    "similarity_score"
   ]
  },
  {
   "cell_type": "code",
   "execution_count": null,
   "id": "e5c87300",
   "metadata": {},
   "outputs": [],
   "source": [
    "len(similarity_score)"
   ]
  },
  {
   "cell_type": "code",
   "execution_count": null,
   "id": "b52c9c8b",
   "metadata": {},
   "outputs": [],
   "source": [
    "# sorting the movie based on higher similaritY score\n",
    "# (reverse = True) - highest to lower value\n",
    "# x[1] means the similarity score in the list of (index,similarity_score)\n",
    "\n",
    "\n",
    "sorted_best_movie = sorted(similarity_score, key = lambda x:x[1], reverse = True)"
   ]
  },
  {
   "cell_type": "code",
   "execution_count": null,
   "id": "7338f6f8",
   "metadata": {},
   "outputs": [],
   "source": [
    "sorted_best_movie"
   ]
  },
  {
   "cell_type": "code",
   "execution_count": null,
   "id": "0e1d835e",
   "metadata": {},
   "outputs": [],
   "source": [
    "print(\"movies suggested for you is :\")\n",
    "\n",
    "i=1\n",
    "\n",
    "for movie in sorted_best_movie:\n",
    "    index = movie[0]\n",
    "    title_from_index = movies_data[movies_data.index==index]['title'].values[0]\n",
    "    if(i<20):\n",
    "        print(i,'.',title_from_index)\n",
    "        i+=1"
   ]
  },
  {
   "cell_type": "markdown",
   "id": "2f3474b2",
   "metadata": {},
   "source": [
    "##  MOVIE RECOMMENDATION  SYSTEM"
   ]
  },
  {
   "cell_type": "code",
   "execution_count": null,
   "id": "d05a3e1c",
   "metadata": {},
   "outputs": [],
   "source": [
    "movie_name = input('Enter your movie name of your choice: ')\n",
    "\n",
    "list_of_all_movies = movies_data['title'].tolist()\n",
    "\n",
    "close_match = difflib.get_close_matches(movie_name,list_of_all_movies)\n",
    "\n",
    "best_match = close_match[0]\n",
    "\n",
    "index_of_the_movie = movies_data[movies_data.title == best_match]['index'].values[0]\n",
    "\n",
    "similarity_score = list(enumerate(similarity[index_of_the_movie]))\n",
    "\n",
    "sorted_best_movie = sorted(similarity_score, key = lambda x:x[1], reverse = True)\n",
    "\n",
    "print(\"movies suggested for you is :\")\n",
    "\n",
    "i=1\n",
    "\n",
    "for movie in sorted_best_movie:\n",
    "    index = movie[0]\n",
    "    title_from_index = movies_data[movies_data.index==index]['title'].values[0]\n",
    "    if(i<20):\n",
    "        print(i,'.',title_from_index)\n",
    "        i+=1\n",
    "\n"
   ]
  }
 ],
 "metadata": {
  "kernelspec": {
   "display_name": "Python 3 (ipykernel)",
   "language": "python",
   "name": "python3"
  },
  "language_info": {
   "codemirror_mode": {
    "name": "ipython",
    "version": 3
   },
   "file_extension": ".py",
   "mimetype": "text/x-python",
   "name": "python",
   "nbconvert_exporter": "python",
   "pygments_lexer": "ipython3",
   "version": "3.9.7"
  }
 },
 "nbformat": 4,
 "nbformat_minor": 5
}
